{
 "cells": [
  {
   "cell_type": "code",
   "execution_count": 1,
   "id": "c547e768",
   "metadata": {},
   "outputs": [
    {
     "name": "stdout",
     "output_type": "stream",
     "text": [
      "Requirement already satisfied: pip in /Library/Frameworks/Python.framework/Versions/3.9/lib/python3.9/site-packages (23.1)\n",
      "Requirement already satisfied: mysql-connector-python in /Library/Frameworks/Python.framework/Versions/3.9/lib/python3.9/site-packages (8.0.32)\n",
      "Requirement already satisfied: protobuf<=3.20.3,>=3.11.0 in /Library/Frameworks/Python.framework/Versions/3.9/lib/python3.9/site-packages (from mysql-connector-python) (3.19.0)\n"
     ]
    }
   ],
   "source": [
    "!pip3 install --upgrade pip\n",
    "!pip3 install mysql-connector-python"
   ]
  },
  {
   "cell_type": "code",
   "execution_count": 3,
   "id": "534c1c29",
   "metadata": {},
   "outputs": [],
   "source": [
    "from mysql.connector import pooling\n",
    "from mysql.connector import Error"
   ]
  },
  {
   "cell_type": "code",
   "execution_count": 26,
   "id": "95e7ff08",
   "metadata": {},
   "outputs": [],
   "source": [
    "dbconfig={\"database\":\"little_lemon_db\", \"user\":\"root\", \"password\":\"********\"}\n",
    "try:\n",
    "    connection_pool = pooling.MySQLConnectionPool(pool_name='pool_b', pool_size=2, **dbconfig)\n",
    "except Error as err:\n",
    "    print('Connection ERROR:', err)"
   ]
  },
  {
   "cell_type": "code",
   "execution_count": 39,
   "id": "79cf3b4f",
   "metadata": {},
   "outputs": [
    {
     "name": "stdout",
     "output_type": "stream",
     "text": [
      "<mysql.connector.pooling.PooledMySQLConnection object at 0x7fe755db8100>\n",
      "<mysql.connector.pooling.PooledMySQLConnection object at 0x7fe755f38340>\n",
      "<mysql.connector.pooling.PooledMySQLConnection object at 0x7fe755f810d0>\n",
      "<mysql.connector.pooling.PooledMySQLConnection object at 0x7fe755f815b0>\n"
     ]
    }
   ],
   "source": [
    "#Task1\n",
    "insert_sql = '''\n",
    "INSERT INTO little_lemon_db.Bookings (TableNo, GuestFirstName, GuestLastName, BookingSlot, EmployeeID) \n",
    "VALUES (8, 'Anees', 'Java', '18:00', 6);\n",
    "'''\n",
    "\n",
    "#Task2\n",
    "insert_sql2 =  '''\n",
    "INSERT INTO little_lemon_db.Bookings (TableNo, GuestFirstName, GuestLastName, BookingSlot, EmployeeID) \n",
    "VALUES (5, 'Bald','Vin','19:00:00',6);\n",
    "'''\n",
    "\n",
    "#Task3\n",
    "insert_sql3 =  '''\n",
    "INSERT INTO little_lemon_db.Bookings (TableNo, GuestFirstName, GuestLastName, BookingSlot, EmployeeID) \n",
    "VALUES (12, 'Jay','Kon','19:30:00',6);\n",
    "'''\n",
    "\n",
    "sql_list = [insert_sql, insert_sql2, insert_sql3]\n",
    "connection, cursor = [], []\n",
    "\n",
    "for i in range(4):#put 4 because 3rd one will get connection and will need to do one final loop\n",
    "    try:\n",
    "        connection.append(connection_pool.get_connection())\n",
    "        if not connection[i]:\n",
    "            print('ERROR: Connection is None')\n",
    "            raise Error('Connection is None')\n",
    "        \n",
    "        if connection[i]:\n",
    "            print(connection[i])\n",
    "            cursor.append(connection[i].cursor())\n",
    "            cursor[i].execute(sql_list[i-1 if i >=3 else i])\n",
    "            connection[i].commit()\n",
    "    except Error as error:\n",
    "        print(error)\n",
    "        if cursor[i]:\n",
    "            cursor[i].close()\n",
    "        if connection[i]:\n",
    "            connection[i].close()\n",
    "        if i > 2:\n",
    "            print(\"Adding new connection in the pool.\")\n",
    "            connection=connector.connect(user=\"root\",password=\"*******\")\n",
    "            pool.add_connection(cnx=connection)\n",
    "            continue  \n",
    "    finally:\n",
    "        cursor[i].close()\n",
    "        connection[i].close()\n"
   ]
  },
  {
   "cell_type": "code",
   "execution_count": 45,
   "id": "ee5b1dc2",
   "metadata": {},
   "outputs": [
    {
     "name": "stdout",
     "output_type": "stream",
     "text": [
      "\n",
      "Connection can't be returned to the pool\n",
      "Error message: Failed adding connection; queue is full\n",
      "\n",
      "Connection can't be returned to the pool\n",
      "Error message: Failed adding connection; queue is full\n",
      "\n",
      "Connection can't be returned to the pool\n",
      "Error message: Failed adding connection; queue is full\n",
      "\n",
      "Connection can't be returned to the pool\n",
      "Error message: Failed adding connection; queue is full\n"
     ]
    }
   ],
   "source": [
    "#alreadu close connection. Just want to see connection close error\n",
    "for con in connection:\n",
    "    try:\n",
    "        con.close()\n",
    "        print(\"Connection is returned to the pool\")\n",
    "    except Error as er:\n",
    "        print(\"\\nConnection can't be returned to the pool\")\n",
    "        print(\"Error message:\", er.msg)"
   ]
  },
  {
   "cell_type": "code",
   "execution_count": 49,
   "id": "2623e8b9",
   "metadata": {},
   "outputs": [
    {
     "name": "stdout",
     "output_type": "stream",
     "text": [
      "Today's sales report:\n",
      "\t Total_Sale : 243\n",
      "\t Average_Sale : 48.6000\n",
      "\t Min_Bill_Paid : 37\n",
      "\t Max_Bill_Paid : 86\n"
     ]
    }
   ],
   "source": [
    "# Create a stored procedure named BasicSalesReport. \n",
    "try:\n",
    "    connection = connection_pool.get_connection()\n",
    "    cursor = connection.cursor()\n",
    "    cursor.execute(\"DROP PROCEDURE IF EXISTS BasicSalesReport;\")\n",
    "\n",
    "    stored_procedure_query=\"\"\"\n",
    "    CREATE PROCEDURE BasicSalesReport()\n",
    "\n",
    "    BEGIN\n",
    "    SELECT \n",
    "    SUM(BillAmount) AS Total_Sale,\n",
    "    AVG(BillAmount) AS Average_Sale,\n",
    "    MIN(BillAmount) AS Min_Bill_Paid,\n",
    "    MAX(BillAmount) AS Max_Bill_Paid\n",
    "    FROM Orders;\n",
    "    END\n",
    "    \"\"\"\n",
    "\n",
    "    # Execute the query\n",
    "    cursor.execute(stored_procedure_query)\n",
    "\n",
    "    #********************************************#\n",
    "\n",
    "    # Call the stored procedure with its name\n",
    "    cursor.callproc(\"BasicSalesReport\")\n",
    "\n",
    "    # Retrieve records in \"dataset\"\n",
    "    results = next(cursor.stored_results())\n",
    "    results = results.fetchall()\n",
    "\n",
    "    # Retrieve column names using list comprehension in a for loop \n",
    "    for column_id in cursor.stored_results():\n",
    "        cols = [column[0] for column in column_id.description]\n",
    "\n",
    "\n",
    "    print(\"Today's sales report:\")\n",
    "    for result in results:\n",
    "        print(\"\\t\",cols[0],\":\",result[0])\n",
    "        print(\"\\t\",cols[1],\":\",result[1])\n",
    "        print(\"\\t\",cols[2],\":\",result[2])\n",
    "        print(\"\\t\",cols[3],\":\",result[3])\n",
    "except Error as error:\n",
    "    print(Error)\n",
    "    cursor.close()\n",
    "    connection.close()\n",
    "finally:\n",
    "    cursor.close()\n",
    "    connection.close()\n"
   ]
  },
  {
   "cell_type": "code",
   "execution_count": 52,
   "id": "879d8467",
   "metadata": {},
   "outputs": [
    {
     "name": "stdout",
     "output_type": "stream",
     "text": [
      "\n",
      "BookingSlot 15:00:00\n",
      "\tGuest_name: Vanessa McCarthy\n",
      "\tAssigned to: Giorgos Dioudis [Head Chef]\n",
      "\n",
      "BookingSlot 17:30:00\n",
      "\tGuest_name: Marcos Romero\n",
      "\tAssigned to: Fatma Kaya [Assistant Chef]\n",
      "\n",
      "BookingSlot 18:00:00\n",
      "\tGuest_name: Anees Java\n",
      "\tAssigned to: John Millar [Receptionist]\n"
     ]
    }
   ],
   "source": [
    "connection = connection_pool.get_connection()\n",
    "cursor=connection.cursor(buffered=True)\n",
    "\n",
    "sql_query=\"\"\"SELECT \n",
    "Bookings.BookingSlot,\n",
    "CONCAT(Bookings.GuestFirstName,\" \",Bookings.GuestLastName) AS Guest_Name,\n",
    "Employees.Name AS Emp_Name,\n",
    "Employees.Role AS Emp_Role\n",
    "FROM Bookings \n",
    "INNER JOIN \n",
    "Employees ON Bookings.EmployeeID=Employees.EmployeeID\n",
    "ORDER BY Bookings.BookingSlot ASC;\"\"\"\n",
    "cursor.execute(sql_query)\n",
    "results=cursor.fetchmany(size=3)\n",
    "#print(cursor.column_names)\n",
    "for result in results:\n",
    "    print(\"\\nBookingSlot\",result[0])\n",
    "    print(\"\\tGuest_name:\",result[1])\n",
    "    print(\"\\tAssigned to:\",result[2],\"[{}]\".format(result[3]))\n",
    "    \n",
    "cursor.close()\n",
    "connection.close()"
   ]
  }
 ],
 "metadata": {
  "kernelspec": {
   "display_name": "Python 3 (ipykernel)",
   "language": "python",
   "name": "python3"
  },
  "language_info": {
   "codemirror_mode": {
    "name": "ipython",
    "version": 3
   },
   "file_extension": ".py",
   "mimetype": "text/x-python",
   "name": "python",
   "nbconvert_exporter": "python",
   "pygments_lexer": "ipython3",
   "version": "3.9.5"
  }
 },
 "nbformat": 4,
 "nbformat_minor": 5
}
